{
 "cells": [
  {
   "cell_type": "code",
   "execution_count": null,
   "metadata": {
    "id": "vd_jazVPvXlO"
   },
   "outputs": [
    {
     "name": "stderr",
     "output_type": "stream",
     "text": [
      "C:\\Users\\OscarZ\\Desktop\\Todo\\Estudio\\Oidor\\.venv\\Lib\\site-packages\\pydub\\utils.py:170: RuntimeWarning: Couldn't find ffmpeg or avconv - defaulting to ffmpeg, but may not work\n",
      "  warn(\"Couldn't find ffmpeg or avconv - defaulting to ffmpeg, but may not work\", RuntimeWarning)\n"
     ]
    }
   ],
   "source": [
    "from pydub import AudioSegment\n",
    "from pydub.utils import which\n",
    "import os\n",
    "import math\n",
    "from transformers import pipeline\n",
    "import gradio as gr\n",
    "from docx import Document\n",
    "import torch"
   ]
  },
  {
   "cell_type": "code",
   "execution_count": null,
   "metadata": {
    "id": "nadth4L4vbKW"
   },
   "outputs": [],
   "source": [
    "def split_audio(input_file, output_folder, duration):\n",
    "    AudioSegment.converter = which(\"ffmpeg\")\n",
    "    audio = AudioSegment.from_mp3(input_file)\n",
    "    total_length = len(audio)\n",
    "    num_parts = math.ceil(total_length / (duration * 1000))\n",
    "\n",
    "    for i in range(num_parts):\n",
    "        start = i * duration * 1000\n",
    "        end = (i + 1) * duration * 1000\n",
    "        split_audio = audio[start:end]\n",
    "        output_path = os.path.join(output_folder, f\"part_{i+1}.mp3\")\n",
    "        split_audio.export(output_path, format=\"mp3\")\n",
    "        print(f\"Exported {output_path}\")"
   ]
  },
  {
   "cell_type": "code",
   "execution_count": null,
   "metadata": {
    "id": "9TvoB_sZv-Jx"
   },
   "outputs": [],
   "source": [
    "def transcribir(file):\n",
    "  device = 0 if torch.cuda.is_available() else -1\n",
    "  pipe = pipeline(\"automatic-speech-recognition\", \"openai/whisper-large-v3\", return_timestamps=True, device=device)\n",
    "  output_dir = \"Salida\"\n",
    "  os.makedirs(output_dir, exist_ok=True)\n",
    "  split_audio(file, output_dir, 600)\n",
    "  doc = Document()\n",
    "  doc.add_heading(\"Transcripción de Audio\", level=1)\n",
    "\n",
    "  for file in sorted(os.listdir(output_dir)):\n",
    "      file_path = os.path.join(output_dir, file)\n",
    "      print(f\"Procesando: {file_path}\")\n",
    "\n",
    "      transcription = pipe(file_path)[\"text\"]\n",
    "      doc.add_paragraph(transcription)\n",
    "\n",
    "  output_file = \"transcripcion.docx\"\n",
    "  doc.save(output_file)\n",
    "\n",
    "  return output_file"
   ]
  },
  {
   "cell_type": "code",
   "execution_count": null,
   "metadata": {
    "colab": {
     "base_uri": "https://localhost:8080/",
     "height": 626
    },
    "id": "RO0VYbmHwY4N",
    "outputId": "882ae009-e601-4139-86f6-d436fa4def39"
   },
   "outputs": [],
   "source": [
    "demo = gr.Interface(\n",
    "    fn=transcribir,\n",
    "    inputs=gr.File(),\n",
    "    outputs=gr.File(),\n",
    "    allow_flagging='never'\n",
    ")\n",
    "demo.queue(default_concurrency_limit=10).launch(share=True,debug=True)"
   ]
  }
 ],
 "metadata": {
  "colab": {
   "provenance": []
  },
  "kernelspec": {
   "display_name": "Python 3 (ipykernel)",
   "language": "python",
   "name": "python3"
  },
  "language_info": {
   "codemirror_mode": {
    "name": "ipython",
    "version": 3
   },
   "file_extension": ".py",
   "mimetype": "text/x-python",
   "name": "python",
   "nbconvert_exporter": "python",
   "pygments_lexer": "ipython3",
   "version": "3.11.9"
  }
 },
 "nbformat": 4,
 "nbformat_minor": 4
}
