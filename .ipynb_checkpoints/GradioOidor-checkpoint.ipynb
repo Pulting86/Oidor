{
  "nbformat": 4,
  "nbformat_minor": 0,
  "metadata": {
    "colab": {
      "provenance": []
    },
    "kernelspec": {
      "name": "python3",
      "display_name": "Python 3"
    },
    "language_info": {
      "name": "python"
    }
  },
  "cells": [
    {
      "cell_type": "code",
      "execution_count": 1,
      "metadata": {
        "id": "3oUXaD6KvEyl"
      },
      "outputs": [],
      "source": [
        "!pip install gradio -q -U"
      ]
    },
    {
      "cell_type": "code",
      "source": [
        "!pip install pydub --quiet"
      ],
      "metadata": {
        "id": "jPGZ6kzJvWcr"
      },
      "execution_count": 2,
      "outputs": []
    },
    {
      "cell_type": "code",
      "source": [
        "from pydub import AudioSegment\n",
        "import os\n",
        "import math\n",
        "from transformers import pipeline\n",
        "import gradio as gr\n"
      ],
      "metadata": {
        "id": "vd_jazVPvXlO"
      },
      "execution_count": 3,
      "outputs": []
    },
    {
      "cell_type": "code",
      "source": [
        "def split_audio(input_file, output_folder, duration):\n",
        "    audio = AudioSegment.from_mp3(input_file)\n",
        "    total_length = len(audio)\n",
        "    num_parts = math.ceil(total_length / (duration * 1000))\n",
        "\n",
        "    for i in range(num_parts):\n",
        "        start = i * duration * 1000\n",
        "        end = (i + 1) * duration * 1000\n",
        "        split_audio = audio[start:end]\n",
        "        output_path = os.path.join(output_folder, f\"part_{i+1}.mp3\")\n",
        "        split_audio.export(output_path, format=\"mp3\")\n",
        "        print(f\"Exported {output_path}\")"
      ],
      "metadata": {
        "id": "nadth4L4vbKW"
      },
      "execution_count": 4,
      "outputs": []
    },
    {
      "cell_type": "code",
      "source": [
        "def transcribir(file):\n",
        "  pipe = pipeline(\"automatic-speech-recognition\", \"openai/whisper-large-v3\",return_timestamps=True,device=0)\n",
        "  os.mkdir(\"Salida\")\n",
        "  split_audio(file, \"Salida\", 600)\n",
        "  f = open(\"Guión.docx\",\"a\")\n",
        "  for file in sorted(os.listdir(\"Salida\")):\n",
        "      file_path = os.path.join(\"Salida\", file)\n",
        "      print(file_path)\n",
        "      f.write((pipe(file_path)[\"text\"]))\n",
        "  f.close()\n",
        "  return f"
      ],
      "metadata": {
        "id": "9TvoB_sZv-Jx"
      },
      "execution_count": 5,
      "outputs": []
    },
    {
      "cell_type": "code",
      "source": [
        "demo = gr.Interface(\n",
        "    fn=transcribir,\n",
        "    inputs=gr.File(),\n",
        "    outputs=gr.File(),\n",
        "    allow_flagging='never'\n",
        ")\n",
        "demo.queue(default_concurrency_limit=10).launch(share=True)"
      ],
      "metadata": {
        "colab": {
          "base_uri": "https://localhost:8080/",
          "height": 626
        },
        "id": "RO0VYbmHwY4N",
        "outputId": "882ae009-e601-4139-86f6-d436fa4def39"
      },
      "execution_count": 6,
      "outputs": [
        {
          "output_type": "stream",
          "name": "stderr",
          "text": [
            "/usr/local/lib/python3.10/dist-packages/gradio/interface.py:399: UserWarning: The `allow_flagging` parameter in `Interface` is deprecated.Use `flagging_mode` instead.\n",
            "  warnings.warn(\n"
          ]
        },
        {
          "output_type": "stream",
          "name": "stdout",
          "text": [
            "Colab notebook detected. To show errors in colab notebook, set debug=True in launch()\n",
            "* Running on public URL: https://741b79c83f9cd2166b.gradio.live\n",
            "\n",
            "This share link expires in 72 hours. For free permanent hosting and GPU upgrades, run `gradio deploy` from the terminal in the working directory to deploy to Hugging Face Spaces (https://huggingface.co/spaces)\n"
          ]
        },
        {
          "output_type": "display_data",
          "data": {
            "text/plain": [
              "<IPython.core.display.HTML object>"
            ],
            "text/html": [
              "<div><iframe src=\"https://741b79c83f9cd2166b.gradio.live\" width=\"100%\" height=\"500\" allow=\"autoplay; camera; microphone; clipboard-read; clipboard-write;\" frameborder=\"0\" allowfullscreen></iframe></div>"
            ]
          },
          "metadata": {}
        },
        {
          "output_type": "execute_result",
          "data": {
            "text/plain": []
          },
          "metadata": {},
          "execution_count": 6
        }
      ]
    },
    {
      "cell_type": "code",
      "source": [],
      "metadata": {
        "id": "YbU1tq32w06f"
      },
      "execution_count": null,
      "outputs": []
    }
  ]
}