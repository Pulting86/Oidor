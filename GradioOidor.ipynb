{
 "cells": [
  {
   "cell_type": "code",
   "execution_count": null,
   "metadata": {
    "id": "3oUXaD6KvEyl"
   },
   "outputs": [],
   "source": [
    "!pip install gradio -q -U"
   ]
  },
  {
   "cell_type": "code",
   "execution_count": null,
   "metadata": {
    "id": "jPGZ6kzJvWcr"
   },
   "outputs": [],
   "source": [
    "!pip install pydub --quiet"
   ]
  },
  {
   "cell_type": "code",
   "execution_count": null,
   "metadata": {
    "id": "vd_jazVPvXlO"
   },
   "outputs": [],
   "source": [
    "from pydub import AudioSegment\n",
    "import os\n",
    "import math\n",
    "from transformers import pipeline\n",
    "import gradio as gr\n"
   ]
  },
  {
   "cell_type": "code",
   "execution_count": null,
   "metadata": {
    "id": "nadth4L4vbKW"
   },
   "outputs": [],
   "source": [
    "def split_audio(input_file, output_folder, duration):\n",
    "    audio = AudioSegment.from_mp3(input_file)\n",
    "    total_length = len(audio)\n",
    "    num_parts = math.ceil(total_length / (duration * 1000))\n",
    "\n",
    "    for i in range(num_parts):\n",
    "        start = i * duration * 1000\n",
    "        end = (i + 1) * duration * 1000\n",
    "        split_audio = audio[start:end]\n",
    "        output_path = os.path.join(output_folder, f\"part_{i+1}.mp3\")\n",
    "        split_audio.export(output_path, format=\"mp3\")\n",
    "        print(f\"Exported {output_path}\")"
   ]
  },
  {
   "cell_type": "code",
   "execution_count": null,
   "metadata": {
    "id": "9TvoB_sZv-Jx"
   },
   "outputs": [],
   "source": [
    "def transcribir(file):\n",
    "  pipe = pipeline(\"automatic-speech-recognition\", \"openai/whisper-large-v3\",return_timestamps=True,device=0)\n",
    "  os.mkdir(\"Salida\")\n",
    "  split_audio(file, \"Salida\", 600)\n",
    "  f = open(\"Guión.docx\",\"a\")\n",
    "  for file in sorted(os.listdir(\"Salida\")):\n",
    "      file_path = os.path.join(\"Salida\", file)\n",
    "      print(file_path)\n",
    "      f.write((pipe(file_path)[\"text\"]))\n",
    "  f.close()\n",
    "  return f"
   ]
  },
  {
   "cell_type": "code",
   "execution_count": null,
   "metadata": {
    "colab": {
     "base_uri": "https://localhost:8080/",
     "height": 626
    },
    "id": "RO0VYbmHwY4N",
    "outputId": "882ae009-e601-4139-86f6-d436fa4def39"
   },
   "outputs": [],
   "source": [
    "demo = gr.Interface(\n",
    "    fn=transcribir,\n",
    "    inputs=gr.File(),\n",
    "    outputs=gr.File(),\n",
    "    allow_flagging='never'\n",
    ")\n",
    "demo.launch(share=True,debug=True)"
   ]
  },
  {
   "cell_type": "code",
   "execution_count": null,
   "metadata": {},
   "outputs": [],
   "source": []
  },
  {
   "cell_type": "code",
   "execution_count": null,
   "metadata": {},
   "outputs": [],
   "source": []
  }
 ],
 "metadata": {
  "colab": {
   "provenance": []
  },
  "kernelspec": {
   "display_name": "Python 3 (ipykernel)",
   "language": "python",
   "name": "python3"
  },
  "language_info": {
   "codemirror_mode": {
    "name": "ipython",
    "version": 3
   },
   "file_extension": ".py",
   "mimetype": "text/x-python",
   "name": "python",
   "nbconvert_exporter": "python",
   "pygments_lexer": "ipython3",
   "version": "3.11.9"
  }
 },
 "nbformat": 4,
 "nbformat_minor": 4
}
